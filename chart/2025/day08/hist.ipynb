{
 "cells": [
  {
   "cell_type": "markdown",
   "id": "0",
   "metadata": {},
   "source": [
    "# #30DayChartChallenge\n",
    "**5th edition - April 2025**"
   ]
  },
  {
   "cell_type": "code",
   "execution_count": null,
   "id": "1",
   "metadata": {},
   "outputs": [],
   "source": [
    "# Import Libraries for charting\n",
    "import matplotlib.pyplot as plt\n",
    "import pandas as pd"
   ]
  },
  {
   "cell_type": "markdown",
   "id": "2",
   "metadata": {},
   "source": [
    "# 8th of April 2025\n",
    "**Day 8: Histogram**\n"
   ]
  },
  {
   "cell_type": "code",
   "execution_count": null,
   "id": "3",
   "metadata": {},
   "outputs": [],
   "source": [
    "# Get the data\n",
    "data = pd.read_csv(\"./data/reporte.csv\", encoding=\"latin-1\", sep=\";\")\n",
    "columns_unamed = [col for col in data.columns if \"Unnamed\" in col]\n",
    "# Drop the unnamed columns\n",
    "for col in columns_unamed:\n",
    "    data.drop(columns=col, inplace=True)\n",
    "\n",
    "data = data.dropna(how=\"all\")\n",
    "data[\"Hombre\"] = data[\"Hombre\"].replace({\"-\": 0}).astype(int)\n",
    "data[\"Mujer\"] = data[\"Mujer\"].replace({\"-\": 0}).astype(int)\n",
    "\n",
    "data = data.rename(columns={\"Edad en Años Cumplidos\": \"edad\"})\n",
    "data[\"edad\"] = data[\"edad\"].astype(int)\n",
    "# data.info()"
   ]
  },
  {
   "cell_type": "code",
   "execution_count": null,
   "id": "4",
   "metadata": {},
   "outputs": [],
   "source": [
    "# Set the style of seaborn\n",
    "plt.style.use(\"seaborn-v0_8-whitegrid\")\n",
    "\n",
    "# Create a figure\n",
    "plt.figure(figsize=(12, 7), dpi=300)\n",
    "\n",
    "# Create the histograms\n",
    "plt.hist(\n",
    "    data[\"edad\"],\n",
    "    bins=range(0, 100, 10),\n",
    "    weights=data[\"Hombre\"],\n",
    "    alpha=0.7,\n",
    "    label=\"Hombres\",\n",
    "    color=\"blue\",\n",
    "    edgecolor=\"black\",\n",
    ")\n",
    "plt.hist(\n",
    "    data[\"edad\"],\n",
    "    bins=range(0, 100, 10),\n",
    "    weights=data[\"Mujer\"],\n",
    "    alpha=0.7,\n",
    "    label=\"Mujeres\",\n",
    "    color=\"pink\",\n",
    "    edgecolor=\"black\",\n",
    ")\n",
    "\n",
    "# Add labels and title\n",
    "plt.title(\n",
    "    \"Distribución Demográfica por Edad y Sexo\\nHonduras 2001\", fontsize=16, pad=20\n",
    ")\n",
    "plt.xlabel(\"Grupos de Edad (años)\", fontsize=12)\n",
    "plt.ylabel(\"Número de Personas\", fontsize=12)\n",
    "\n",
    "# Best axes and legend\n",
    "plt.xticks(range(0, 100, 10))\n",
    "plt.yticks(fontsize=10)\n",
    "plt.legend(frameon=True, shadow=True)\n",
    "\n",
    "# Grid y spines\n",
    "plt.grid(axis=\"y\", linestyle=\"--\", alpha=0.6)\n",
    "plt.gca().spines[[\"top\", \"right\"]].set_visible(False)\n",
    "\n",
    "# Anotación de autoría\n",
    "plt.text(\n",
    "    0.95,\n",
    "    0.95,\n",
    "    \"Fuente: INE Honduras | Análisis: Luis Lopez\\n#30DayChartChallenge | Day 8 - Distributions: Histogram\",\n",
    "    transform=plt.gca().transAxes,\n",
    "    ha=\"right\",\n",
    "    va=\"top\",\n",
    "    fontsize=10,\n",
    "    bbox=dict(facecolor=\"white\", alpha=0.8, edgecolor=\"none\"),\n",
    ")\n",
    "\n",
    "# Ajustar layout\n",
    "plt.tight_layout()\n",
    "\n",
    "# Show the plot\n",
    "plt.savefig(\n",
    "    \"results/day08_distribucion_demografica_edad_sexo_hn_2001.png\",\n",
    "    dpi=300,\n",
    "    bbox_inches=\"tight\",\n",
    ")\n",
    "plt.show()"
   ]
  },
  {
   "cell_type": "code",
   "execution_count": null,
   "id": "5",
   "metadata": {},
   "outputs": [],
   "source": []
  }
 ],
 "metadata": {
  "kernelspec": {
   "display_name": ".venv",
   "language": "python",
   "name": "python3"
  },
  "language_info": {
   "codemirror_mode": {
    "name": "ipython",
    "version": 3
   },
   "file_extension": ".py",
   "mimetype": "text/x-python",
   "name": "python",
   "nbconvert_exporter": "python",
   "pygments_lexer": "ipython3",
   "version": "3.12.9"
  }
 },
 "nbformat": 4,
 "nbformat_minor": 5
}
