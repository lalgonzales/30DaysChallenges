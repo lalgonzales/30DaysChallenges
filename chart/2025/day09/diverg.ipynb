{
 "cells": [
  {
   "cell_type": "markdown",
   "id": "0",
   "metadata": {},
   "source": [
    "# #30DayChartChallenge\n",
    "**5th edition - April 2025**"
   ]
  },
  {
   "cell_type": "code",
   "execution_count": null,
   "id": "1",
   "metadata": {},
   "outputs": [],
   "source": [
    "# Import Libraries for charting\n",
    "import ee\n",
    "import geemap\n",
    "import pandas as pd\n",
    "import geopandas as gpd\n",
    "import matplotlib.pyplot as plt\n",
    "from owslib.wfs import WebFeatureService\n",
    "\n",
    "# Initialize the map\n",
    "m = geemap.Map()"
   ]
  },
  {
   "cell_type": "markdown",
   "id": "f644b032",
   "metadata": {},
   "source": [
    "## Retrieve WFS ICF Info"
   ]
  },
  {
   "cell_type": "code",
   "execution_count": null,
   "id": "7ab6e3a7",
   "metadata": {},
   "outputs": [],
   "source": [
    "url_wfs = \"https://geoserver.icf.gob.hn/icfpub/wfs\"\n",
    "wfs = WebFeatureService(url_wfs, version=\"1.1.0\")\n",
    "\n",
    "# Get the list of available layers\n",
    "layers = wfs.contents\n",
    "# print(\"Available layers:\")\n",
    "# for layer in layers:\n",
    "#     print(layer)"
   ]
  },
  {
   "cell_type": "markdown",
   "id": "2",
   "metadata": {},
   "source": [
    "# 9th of April 2025\n",
    "**Day 8: Distribution | Diverging**\n"
   ]
  },
  {
   "cell_type": "code",
   "execution_count": null,
   "id": "3",
   "metadata": {},
   "outputs": [],
   "source": [
    "# Define the gee data\n",
    "modis_lst_coll = (\n",
    "    ee.ImageCollection(\"MODIS/061/MOD21A1D\")\n",
    "    .select(\"LST_1KM\")\n",
    ")\n",
    "\n",
    "\n",
    "# Define the region of interest (ROI)\n",
    "layer = \"icfpub:limite_departamentos_gp\"\n",
    "response = wfs.getfeature(typename=layer, outputFormat=\"application/json\")\n",
    "gdf = gpd.read_file(response)\n",
    "ee_roi = geemap.gdf_to_ee(gdf)\n",
    "ee_roi_ext = ee_roi.geometry().bounds()\n"
   ]
  },
  {
   "cell_type": "code",
   "execution_count": null,
   "id": "2acdc601",
   "metadata": {},
   "outputs": [],
   "source": [
    "# Clip the collection to the region of interest\n",
    "coll_clipped = (\n",
    "    modis_lst_coll\n",
    "    .filterBounds(ee_roi_ext)\n",
    "    .map(lambda img: img.clipToCollection(ee_roi))\n",
    ")\n",
    "\n",
    "# Convert to Celsius\n",
    "def kelvin_to_celsius(img):\n",
    "    return img.multiply(0.02).subtract(273.15).copyProperties(img, ['system:time_start'])\n",
    "\n",
    "coll_celsius = coll_clipped.map(kelvin_to_celsius)\n",
    "\n",
    "# Calculate annual average\n",
    "def get_annual_mean(year):\n",
    "    yearly_col = coll_celsius.filter(ee.Filter.calendarRange(year, year, 'year'))\n",
    "    mean_img = yearly_col.mean().clipToCollection(ee_roi)\n",
    "    return mean_img.set('year', year)\n",
    "\n",
    "# Get the annual mean images\n",
    "years = ee.List.sequence(2000, 2025)\n",
    "annual_means = ee.ImageCollection(years.map(get_annual_mean))\n",
    "\n",
    "# Historial Anual mean\n",
    "historical_mean = annual_means.mean()"
   ]
  },
  {
   "cell_type": "code",
   "execution_count": null,
   "id": "4c4075c9",
   "metadata": {},
   "outputs": [],
   "source": [
    "# Función para restar el promedio histórico a cada año\n",
    "def calculate_deviation(year_img):\n",
    "    deviation = year_img.subtract(historical_mean).rename('temp_deviation')\n",
    "    return deviation.set('year', year_img.get('year'))\n",
    "\n",
    "# Aplicar a la colección anual\n",
    "deviations = annual_means.map(calculate_deviation)"
   ]
  },
  {
   "cell_type": "code",
   "execution_count": null,
   "id": "ca98841f",
   "metadata": {},
   "outputs": [],
   "source": [
    "# Reducir región (Honduras) a un valor medio por año\n",
    "stats_list = []\n",
    "for year_img in deviations.toList(deviations.size()).getInfo():\n",
    "    year = year_img['properties']['year']\n",
    "    mean_dev = ee.Image(year_img).reduceRegion(\n",
    "        reducer=ee.Reducer.mean(),\n",
    "        geometry=ee_roi,\n",
    "        scale=1000  # Resolución MODIS\n",
    "    ).get('temp_deviation').getInfo()\n",
    "    stats_list.append({'year': year, 'deviation': mean_dev})\n",
    "\n",
    "# Convertir a DataFrame\n",
    "df = pd.DataFrame(stats_list).sort_values('year')"
   ]
  },
  {
   "cell_type": "code",
   "execution_count": null,
   "id": "fc5f0d6a",
   "metadata": {},
   "outputs": [],
   "source": []
  }
 ],
 "metadata": {
  "kernelspec": {
   "display_name": ".venv",
   "language": "python",
   "name": "python3"
  },
  "language_info": {
   "codemirror_mode": {
    "name": "ipython",
    "version": 3
   },
   "file_extension": ".py",
   "mimetype": "text/x-python",
   "name": "python",
   "nbconvert_exporter": "python",
   "pygments_lexer": "ipython3",
   "version": "3.12.1"
  }
 },
 "nbformat": 4,
 "nbformat_minor": 5
}
