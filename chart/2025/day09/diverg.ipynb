{
 "cells": [
  {
   "cell_type": "markdown",
   "id": "0",
   "metadata": {},
   "source": [
    "# #30DayChartChallenge\n",
    "**5th edition - April 2025**"
   ]
  },
  {
   "cell_type": "code",
   "execution_count": null,
   "id": "1",
   "metadata": {},
   "outputs": [],
   "source": [
    "# Import Libraries for charting\n",
    "import ee\n",
    "import geemap\n",
    "import pandas as pd\n",
    "import geopandas as gpd\n",
    "import matplotlib.pyplot as plt\n",
    "from owslib.wfs import WebFeatureService\n",
    "\n",
    "# Initialize the map\n",
    "m = geemap.Map()"
   ]
  },
  {
   "cell_type": "markdown",
   "id": "2",
   "metadata": {},
   "source": [
    "## Retrieve WFS ICF Info"
   ]
  },
  {
   "cell_type": "code",
   "execution_count": null,
   "id": "3",
   "metadata": {},
   "outputs": [],
   "source": [
    "url_wfs = \"https://geoserver.icf.gob.hn/icfpub/wfs\"\n",
    "wfs = WebFeatureService(url_wfs, version=\"1.1.0\")\n",
    "\n",
    "# Get the list of available layers\n",
    "layers = wfs.contents\n",
    "# print(\"Available layers:\")\n",
    "# for layer in layers:\n",
    "#     print(layer)"
   ]
  },
  {
   "cell_type": "markdown",
   "id": "4",
   "metadata": {},
   "source": [
    "# 9th of April 2025\n",
    "**Day 8: Distribution | Diverging**\n"
   ]
  },
  {
   "cell_type": "code",
   "execution_count": null,
   "id": "5",
   "metadata": {},
   "outputs": [],
   "source": [
    "# Define the gee data\n",
    "modis_lst_coll = ee.ImageCollection(\"MODIS/061/MOD21A1D\").select(\"LST_1KM\")\n",
    "\n",
    "\n",
    "# Define the region of interest (ROI)\n",
    "layer = \"icfpub:limite_departamentos_gp\"\n",
    "response = wfs.getfeature(typename=layer, outputFormat=\"application/json\")\n",
    "gdf = gpd.read_file(response)\n",
    "cods = gdf[\"cod\"].unique()\n",
    "\n",
    "# Create a dictionary of ee.Geometries for each department\n",
    "ee_geom_list = {}\n",
    "for cod in cods:\n",
    "    depto = gdf.query(\"cod == @cod\")\n",
    "    ee_dept = geemap.gdf_to_ee(depto)\n",
    "    ee_dept_ext = ee_dept.geometry().bounds()\n",
    "    ee_geom_list[f\"HN{cod}\"] = [ee_dept_ext, ee_dept]"
   ]
  },
  {
   "cell_type": "code",
   "execution_count": null,
   "id": "6",
   "metadata": {},
   "outputs": [],
   "source": [
    "# Get the depto annual mean LST and mean annual LST for the years\n",
    "years = ee.List.sequence(2000, 2025)\n",
    "yearly_mean_dict = {}\n",
    "\n",
    "for dept, [ext, roi] in ee_geom_list.items():\n",
    "    # Function to get the mean LST for each year\n",
    "    def get_mean_lst(year):\n",
    "        start_date = ee.Date.fromYMD(year, 1, 1)\n",
    "        end_date = ee.Date.fromYMD(year, 12, 31)\n",
    "        return (\n",
    "            modis_lst_coll.filterDate(start_date, end_date)\n",
    "            .filterBounds(ext)\n",
    "            .mean()\n",
    "            .set(\"year\", year)\n",
    "            .clipToCollection(roi)\n",
    "        )\n",
    "\n",
    "    # Map the function over the years and convert to ImageCollection\n",
    "    mean_lst_images = years.map(get_mean_lst)\n",
    "    mean_lst_collection = ee.ImageCollection(mean_lst_images)\n",
    "\n",
    "    # Add to dictionary\n",
    "    yearly_mean_dict[dept] = [mean_lst_collection, ext, roi]"
   ]
  },
  {
   "cell_type": "code",
   "execution_count": null,
   "id": "7",
   "metadata": {},
   "outputs": [],
   "source": [
    "# Create the df with the dept cod, name, year and mean LST\n",
    "mean_lst_data = []\n",
    "\n",
    "for depto, [coll, ext, roi] in yearly_mean_dict.items():\n",
    "    for year in years.getInfo():  # Convert server-side list to client-side list\n",
    "        img = coll.filter(ee.Filter.eq(\"year\", year)).first()\n",
    "        if img:  # Check if the image exists\n",
    "            stats_dict = geemap.image_stats(img, roi, scale=1000).getInfo()\n",
    "            df = pd.DataFrame(stats_dict)\n",
    "            df[\"depto\"] = depto\n",
    "            df[\"year\"] = year\n",
    "            mean_lst_data.append(stats_dict)\n",
    "\n",
    "# Convert the collected data into a DataFrame\n",
    "mean_lst_df = pd.DataFrame(mean_lst_data)"
   ]
  },
  {
   "cell_type": "code",
   "execution_count": null,
   "id": "8",
   "metadata": {},
   "outputs": [],
   "source": [
    "mean_lst_df.to_csv(\"./data/deptos_data.csv\", index=False)"
   ]
  },
  {
   "cell_type": "code",
   "execution_count": null,
   "id": "9",
   "metadata": {},
   "outputs": [],
   "source": [
    "# # Clip the collection to the region of interest\n",
    "# coll_clipped = (\n",
    "#     modis_lst_coll\n",
    "#     .filterBounds(ee_roi_ext)\n",
    "#     .map(lambda img: img.clipToCollection(ee_roi))\n",
    "# )\n",
    "\n",
    "# # Convert to Celsius\n",
    "# def kelvin_to_celsius(img):\n",
    "#     return img.multiply(0.02).subtract(273.15).copyProperties(img, ['system:time_start'])\n",
    "\n",
    "# coll_celsius = coll_clipped.map(kelvin_to_celsius)\n",
    "\n",
    "# # Calculate annual average\n",
    "# def get_annual_mean(year):\n",
    "#     yearly_col = coll_celsius.filter(ee.Filter.calendarRange(year, year, 'year'))\n",
    "#     mean_img = yearly_col.mean().clipToCollection(ee_roi)\n",
    "#     return mean_img.set('year', year)\n",
    "\n",
    "# # Get the annual mean images\n",
    "# years = ee.List.sequence(2000, 2025)\n",
    "# annual_means = ee.ImageCollection(years.map(get_annual_mean))\n",
    "\n",
    "# # Historical annual mean\n",
    "# historical_mean = annual_means.mean()"
   ]
  },
  {
   "cell_type": "code",
   "execution_count": null,
   "id": "10",
   "metadata": {},
   "outputs": [],
   "source": [
    "# # Función para restar el promedio histórico a cada año\n",
    "# def calculate_deviation(year_img):\n",
    "#     deviation = year_img.subtract(historical_mean).rename('temp_deviation')\n",
    "#     return deviation.set('year', year_img.get('year'))\n",
    "\n",
    "# # Aplicar a la colección annual\n",
    "# deviations = annual_means.map(calculate_deviation)"
   ]
  },
  {
   "cell_type": "code",
   "execution_count": null,
   "id": "11",
   "metadata": {},
   "outputs": [],
   "source": [
    "# deviations"
   ]
  },
  {
   "cell_type": "code",
   "execution_count": null,
   "id": "12",
   "metadata": {},
   "outputs": [],
   "source": [
    "# Get the"
   ]
  },
  {
   "cell_type": "code",
   "execution_count": null,
   "id": "13",
   "metadata": {},
   "outputs": [],
   "source": [
    "# # Reducir región (Honduras) a un valor medio por año\n",
    "# stats_list = []\n",
    "# for year_img in deviations.toList(deviations.size()).getInfo():\n",
    "#     year = year_img['properties']['year']\n",
    "#     mean_dev = ee.Image(year_img).reduceRegion(\n",
    "#         reducer=ee.Reducer.mean(),\n",
    "#         geometry=ee_roi,\n",
    "#         scale=1000,  # Resolución MODIS\n",
    "#         maxPixels=1e13,\n",
    "#     ).get('temp_deviation').getInfo()\n",
    "#     stats_list.append({'year': year, 'deviation': mean_dev})\n",
    "\n",
    "# # Convertir a DataFrame\n",
    "# df = pd.DataFrame(stats_list).sort_values('year')"
   ]
  },
  {
   "cell_type": "code",
   "execution_count": null,
   "id": "14",
   "metadata": {},
   "outputs": [],
   "source": []
  }
 ],
 "metadata": {
  "kernelspec": {
   "display_name": ".venv",
   "language": "python",
   "name": "python3"
  },
  "language_info": {
   "codemirror_mode": {
    "name": "ipython",
    "version": 3
   },
   "file_extension": ".py",
   "mimetype": "text/x-python",
   "name": "python",
   "nbconvert_exporter": "python",
   "pygments_lexer": "ipython3",
   "version": "3.12.9"
  }
 },
 "nbformat": 4,
 "nbformat_minor": 5
}
