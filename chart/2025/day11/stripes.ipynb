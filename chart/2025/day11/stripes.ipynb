{
 "cells": [
  {
   "cell_type": "markdown",
   "id": "0",
   "metadata": {},
   "source": [
    "# #30DayChartChallenge\n",
    "**5th edition - April 2025**"
   ]
  },
  {
   "cell_type": "code",
   "execution_count": null,
   "id": "1",
   "metadata": {},
   "outputs": [],
   "source": [
    "# Imports\n",
    "import os\n",
    "import seaborn\n",
    "import matplotlib.pyplot as plt\n",
    "import geopandas as gpd\n",
    "import leafmap\n",
    "from owslib.wfs import WebFeatureService"
   ]
  },
  {
   "cell_type": "markdown",
   "id": "2",
   "metadata": {},
   "source": [
    "# 11th of April 2025\n",
    "**Day 11 | Distributions\": Stripes**\n"
   ]
  },
  {
   "cell_type": "code",
   "execution_count": null,
   "id": "3",
   "metadata": {},
   "outputs": [],
   "source": [
    "# Get the data\n",
    "wfs_icf = \"http://geoserver.icf.gob.hn/icfpub/wfs\"\n",
    "wfs = WebFeatureService(wfs_icf, version=\"1.1.0\")\n",
    "# Get the list of layers\n",
    "layers = wfs.contents\n",
    "\n",
    "# # Print the layers\n",
    "# print(\"Available layers:\")\n",
    "# for layer in layers:\n",
    "#     print(f\"- {layer}\")"
   ]
  },
  {
   "cell_type": "code",
   "execution_count": null,
   "id": "4",
   "metadata": {},
   "outputs": [],
   "source": [
    "# Get the Microcuenca layer\n",
    "layer_name = \"icfpub:microcuencas_declaradas_gp\"\n",
    "\n",
    "# Get the data\n",
    "response = wfs.getfeature(typename=layer_name, outputFormat=\"application/json\")\n",
    "\n",
    "gdf_mc = gpd.read_file(response)"
   ]
  },
  {
   "cell_type": "code",
   "execution_count": null,
   "id": "5",
   "metadata": {},
   "outputs": [],
   "source": [
    "# Explore the data\n",
    "# print(\"Microcuenca data:\")\n",
    "# print(gdf_mc.head())\n",
    "print(\"Microcuenca data types:\")\n",
    "print(gdf_mc.dtypes)\n",
    "print(\"Microcuenca data columns:\")\n",
    "print(gdf_mc.columns)"
   ]
  },
  {
   "cell_type": "code",
   "execution_count": null,
   "id": "6",
   "metadata": {},
   "outputs": [],
   "source": [
    "gdf_mc[\"area_ha\"].head()"
   ]
  },
  {
   "cell_type": "code",
   "execution_count": null,
   "id": "7",
   "metadata": {},
   "outputs": [],
   "source": []
  },
  {
   "cell_type": "code",
   "execution_count": null,
   "id": "8",
   "metadata": {},
   "outputs": [],
   "source": [
    "# aggregate area_ha by year\n",
    "df = gdf_mc.groupby(by=[\"anio_decla\"])[\"area_ha\"].sum().reset_index(name=\"area_ha\")\n",
    "df = df.query(\"anio_decla >= 2000\")\n",
    "# # Print the data\n",
    "# print(\"Microcuenca data by year:\")\n",
    "# print(df.head())"
   ]
  },
  {
   "cell_type": "code",
   "execution_count": null,
   "id": "9",
   "metadata": {},
   "outputs": [],
   "source": [
    "df"
   ]
  },
  {
   "cell_type": "code",
   "execution_count": null,
   "id": "10",
   "metadata": {},
   "outputs": [],
   "source": [
    "# Normalize the area for the colormap (0-1)\n",
    "norm_area = (df[\"area_ha\"] - df[\"area_ha\"].min()) / (\n",
    "    df[\"area_ha\"].max() - df[\"area_ha\"].min()\n",
    ")\n",
    "\n",
    "# Create the striped plot\n",
    "fig, ax = plt.subplots(figsize=(12, 3))  # Adjusted height for better readability\n",
    "\n",
    "# Draw a bar for each year with color based on the normalized area\n",
    "bars = ax.bar(\n",
    "    df[\"anio_decla\"],  # X-axis\n",
    "    height=1,  # Fixed height (no Y-scale)\n",
    "    width=1,  # Bar width\n",
    "    color=plt.cm.Reds(norm_area),  # Colormap mapping\n",
    "    edgecolor=\"none\",  # No borders\n",
    ")\n",
    "\n",
    "# Aesthetic adjustments\n",
    "ax.set_xlim(df[\"anio_decla\"].min() - 0.5, df[\"anio_decla\"].max() + 0.5)\n",
    "ax.set_ylim(0, 1)\n",
    "ax.set_xticks(df[\"anio_decla\"])  # Add ticks for each year\n",
    "ax.set_xticklabels(\n",
    "    df[\"anio_decla\"], rotation=45, fontsize=8\n",
    ")  # Rotate and format labels\n",
    "ax.tick_params(axis=\"x\", which=\"both\", length=0)  # Hide tick marks but keep labels\n",
    "ax.spines[\"bottom\"].set_visible(False)  # Hide the bottom spine\n",
    "ax.spines[\"top\"].set_visible(False)  # Hide the top spine\n",
    "ax.spines[\"left\"].set_visible(False)  # Hide the left spine\n",
    "ax.spines[\"right\"].set_visible(False)  # Hide the right spine\n",
    "\n",
    "# Add a title\n",
    "ax.set_title(\n",
    "    \"Microcuencas declaradas por año\\nIntensidad = Área en hectáreas\",\n",
    "    pad=20,\n",
    "    loc=\"center\",\n",
    "    fontsize=14,\n",
    "    fontweight=\"bold\",\n",
    ")\n",
    "\n",
    "# Add a colorbar explicitly tied to the colormap\n",
    "sm = plt.cm.ScalarMappable(\n",
    "    cmap=\"Reds\", norm=plt.Normalize(vmin=df[\"area_ha\"].min(), vmax=df[\"area_ha\"].max())\n",
    ")\n",
    "sm.set_array([])  # Required to avoid errors\n",
    "cbar = fig.colorbar(sm, ax=ax, orientation=\"horizontal\", pad=0.2)\n",
    "cbar.set_label(\"Área (hectáreas)\", fontsize=10)\n",
    "\n",
    "# Add a footer with the source, challenge information, and author details\n",
    "fig.text(\n",
    "    0.5,\n",
    "    -0.1,  # Position below the plot\n",
    "    \"Fuente: Instituto de Conservación Forestal (ICF) | #30DayChartChallenge - Día 11: Distributions:Stripes\\nAutor: Luis López, @lalgonzales\",\n",
    "    ha=\"center\",\n",
    "    fontsize=10,\n",
    "    color=\"gray\",\n",
    ")\n",
    "\n",
    "# Adjust layout\n",
    "\n",
    "plt.tight_layout()\n",
    "char_out = \"results/microcuencas_declaradas_por_anio.png\"\n",
    "if not os.path.exists(\"results\"):\n",
    "    os.makedirs(\"results\")\n",
    "plt.savefig(char_out, dpi=300, bbox_inches=\"tight\")\n",
    "plt.show()"
   ]
  },
  {
   "cell_type": "code",
   "execution_count": null,
   "id": "11",
   "metadata": {},
   "outputs": [],
   "source": []
  }
 ],
 "metadata": {
  "kernelspec": {
   "display_name": ".venv",
   "language": "python",
   "name": "python3"
  },
  "language_info": {
   "codemirror_mode": {
    "name": "ipython",
    "version": 3
   },
   "file_extension": ".py",
   "mimetype": "text/x-python",
   "name": "python",
   "nbconvert_exporter": "python",
   "pygments_lexer": "ipython3",
   "version": "3.12.9"
  }
 },
 "nbformat": 4,
 "nbformat_minor": 5
}
