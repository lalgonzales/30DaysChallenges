{
 "cells": [
  {
   "cell_type": "markdown",
   "id": "0",
   "metadata": {},
   "source": [
    "# #30DayChartChallenge\n",
    "**5th edition - April 2025**"
   ]
  },
  {
   "cell_type": "code",
   "execution_count": null,
   "id": "1",
   "metadata": {},
   "outputs": [],
   "source": [
    "# Import Required Libraries\n",
    "import requests\n",
    "import pandas as pd\n",
    "import matplotlib.pyplot as plt\n",
    "import seaborn as sns\n",
    "import json"
   ]
  },
  {
   "cell_type": "markdown",
   "id": "2",
   "metadata": {},
   "source": [
    "# 24th of April 2025\n",
    "**Day 24: Timeseries: World Health Organization (data day)**"
   ]
  },
  {
   "cell_type": "code",
   "execution_count": null,
   "id": "3",
   "metadata": {},
   "outputs": [],
   "source": [
    "# Define the base API URL\n",
    "api_url = \"https://ghoapi.azureedge.net/api\"\n",
    "\n",
    "# Define the API endpoint for indicators\n",
    "api_url_data = api_url + \"/AIR_11?$FILTER=SpatialDim eq 'HND'\"\n",
    "\n",
    "# Fetch data from the API\n",
    "response = requests.get(api_url_data)\n",
    "if response.status_code == 200:\n",
    "    indicators_data = response.json()\n",
    "    print(\"Data fetched successfully!\")\n",
    "else:\n",
    "    print(f\"Failed to fetch data. Status code: {response.status_code}\")\n",
    "    exit()\n",
    "\n",
    "# Pretty print the JSON response to understand its structure\n",
    "# print(json.dumps(indicators_data, indent=4))"
   ]
  },
  {
   "cell_type": "code",
   "execution_count": null,
   "id": "4",
   "metadata": {},
   "outputs": [],
   "source": [
    "# Extract relevant fields from the JSON response\n",
    "data_values = indicators_data.get(\"value\", [])\n",
    "df = pd.DataFrame(data_values)\n",
    "\n",
    "# Filter and clean the data\n",
    "df = df[[\"TimeDim\", \"NumericValue\"]].dropna()\n",
    "df[\"TimeDim\"] = pd.to_numeric(df[\"TimeDim\"])\n",
    "df = df.sort_values(by=\"TimeDim\")\n",
    "\n",
    "# Display the transformed DataFrame\n",
    "print(df[\"TimeDim\"].min())"
   ]
  },
  {
   "cell_type": "code",
   "execution_count": null,
   "id": "5",
   "metadata": {},
   "outputs": [],
   "source": [
    "# Plot the time series data with improved titles and labels\n",
    "plt.figure(figsize=(12, 8))\n",
    "\n",
    "# Line plot with markers\n",
    "sns.lineplot(\n",
    "    data=df, x=\"TimeDim\", y=\"NumericValue\", marker=\"o\", color=\"blue\", linewidth=2\n",
    ")\n",
    "\n",
    "# Add a descriptive title\n",
    "plt.title(\n",
    "    \"Muertes Atribuibles a la Contaminación del Aire en Hogares en Honduras\\n(Organización Mundial de la Salud - Indicador: AIR_11 2010-2019)\",\n",
    "    fontsize=16,\n",
    "    fontweight=\"bold\",\n",
    ")\n",
    "\n",
    "# Add axis labels\n",
    "plt.xlabel(\"Año\", fontsize=14)\n",
    "plt.ylabel(\"Número de Muertes\", fontsize=14)\n",
    "\n",
    "# Add grid for better readability\n",
    "plt.grid(visible=True, linestyle=\"--\", alpha=0.7)\n",
    "\n",
    "# Add a legend to explain the data\n",
    "plt.legend([\"Muertes por contaminación del aire en hogares\"], fontsize=12)\n",
    "\n",
    "# Anotación de autoría\n",
    "plt.text(\n",
    "    0.95,\n",
    "    0.105,\n",
    "    \"Análisis: Luis Lopez | @lalgonzales\\n#30DayChartChallenge | Day 24 - Timeseries: WHO Data\",\n",
    "    transform=plt.gca().transAxes,\n",
    "    ha=\"right\",\n",
    "    va=\"top\",\n",
    "    fontsize=10,\n",
    "    bbox=dict(facecolor=\"white\", alpha=0.8, edgecolor=\"none\"),\n",
    ")\n",
    "\n",
    "# Save the plot as an image\n",
    "plt.savefig(\n",
    "    \"results/day24_AIR_11_WHO_HN.png\",\n",
    "    dpi=300,\n",
    "    bbox_inches=\"tight\",\n",
    ")\n",
    "\n",
    "# Show the plot\n",
    "plt.tight_layout()\n",
    "plt.show()"
   ]
  },
  {
   "cell_type": "code",
   "execution_count": null,
   "id": "6",
   "metadata": {},
   "outputs": [],
   "source": []
  }
 ],
 "metadata": {
  "kernelspec": {
   "display_name": ".venv",
   "language": "python",
   "name": "python3"
  },
  "language_info": {
   "codemirror_mode": {
    "name": "ipython",
    "version": 3
   },
   "file_extension": ".py",
   "mimetype": "text/x-python",
   "name": "python",
   "nbconvert_exporter": "python",
   "pygments_lexer": "ipython3",
   "version": "3.12.9"
  }
 },
 "nbformat": 4,
 "nbformat_minor": 5
}
