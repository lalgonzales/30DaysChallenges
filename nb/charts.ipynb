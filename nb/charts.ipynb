{
 "cells": [
  {
   "cell_type": "markdown",
   "id": "0",
   "metadata": {},
   "source": [
    "# #30DayChartChallenge\n",
    "**5th edition - April 2025**"
   ]
  },
  {
   "cell_type": "code",
   "execution_count": null,
   "id": "1",
   "metadata": {},
   "outputs": [],
   "source": [
    "# Import Libraries for charting\n",
    "import matplotlib.pyplot as plt\n",
    "import numpy as np\n",
    "import pandas as pd\n",
    "import seaborn as sns\n",
    "import geopandas as gpd\n",
    "from owslib.wfs import WebFeatureService"
   ]
  },
  {
   "cell_type": "code",
   "execution_count": null,
   "id": "2",
   "metadata": {},
   "outputs": [],
   "source": [
    "# Create a connection to the WFS server of ICF\n",
    "url_wfs = \"https://geoserver.icf.gob.hn/icfpub/wfs\"\n",
    "wfs = WebFeatureService(url_wfs, version=\"1.1.0\")\n",
    "\n",
    "# Get the list of available layers\n",
    "layers = wfs.contents\n",
    "print(\"Available layers:\")\n",
    "for layer in layers:\n",
    "    print(layer)"
   ]
  },
  {
   "cell_type": "markdown",
   "id": "3",
   "metadata": {},
   "source": [
    "# 8th of April 2025\n",
    "**Day 8: Histogram**\n"
   ]
  },
  {
   "cell_type": "code",
   "execution_count": null,
   "id": "4",
   "metadata": {},
   "outputs": [],
   "source": [
    "# Get the data\n",
    "data = pd.read_csv(\"../reporte(Output).csv\", encoding=\"latin-1\", sep=\";\")\n",
    "columns_unamed = [col for col in data.columns if \"Unnamed\" in col]\n",
    "# Drop the unnamed columns\n",
    "for col in columns_unamed:\n",
    "    data.drop(columns=col, inplace=True)\n",
    "\n",
    "data = data.dropna(how=\"all\")\n",
    "data[\"Hombre\"] = data[\"Hombre\"].replace({\"-\": 0}).astype(int)\n",
    "data[\"Mujer\"] = data[\"Mujer\"].replace({\"-\": 0}).astype(int)\n",
    "\n",
    "data = data.rename(columns={\"Edad en Años Cumplidos\": \"edad\"})\n",
    "data[\"edad\"] = data[\"edad\"].astype(int)\n",
    "data.info()"
   ]
  },
  {
   "cell_type": "code",
   "execution_count": null,
   "id": "5",
   "metadata": {},
   "outputs": [],
   "source": [
    "# Plot the distribution of age by sex\n",
    "plt.figure(figsize=(12, 6))\n",
    "\n",
    "# Histogram for \"Hombre\"\n",
    "plt.hist(\n",
    "    data[\"edad\"],\n",
    "    bins=10,\n",
    "    weights=data[\"Hombre\"],\n",
    "    alpha=0.7,\n",
    "    label=\"Hombres\",\n",
    "    color=\"blue\",\n",
    ")\n",
    "\n",
    "# Histogram for \"Mujer\"\n",
    "plt.hist(\n",
    "    data[\"edad\"],\n",
    "    bins=10,\n",
    "    weights=data[\"Mujer\"],\n",
    "    alpha=0.7,\n",
    "    label=\"Mujeres\",\n",
    "    color=\"pink\",\n",
    ")\n",
    "\n",
    "# Add labels and title\n",
    "plt.title(\"Distribución de la Edad por Sexo\", fontsize=16)\n",
    "plt.xlabel(\"Edad\", fontsize=12)\n",
    "plt.ylabel(\"Frecuencia\", fontsize=12)\n",
    "plt.legend()\n",
    "plt.grid(axis=\"y\", alpha=0.75)\n",
    "\n",
    "# Show the plot\n",
    "plt.show()"
   ]
  },
  {
   "cell_type": "code",
   "execution_count": null,
   "id": "6",
   "metadata": {},
   "outputs": [],
   "source": [
    "# Set the style of seaborn\n",
    "plt.style.use(\"seaborn-v0_8-whitegrid\")\n",
    "\n",
    "# Create a figure\n",
    "plt.figure(figsize=(12, 6), dpi=300)"
   ]
  },
  {
   "cell_type": "code",
   "execution_count": null,
   "id": "7",
   "metadata": {},
   "outputs": [],
   "source": [
    "plt.style.available"
   ]
  }
 ],
 "metadata": {
  "kernelspec": {
   "display_name": "demo",
   "language": "python",
   "name": "python3"
  },
  "language_info": {
   "codemirror_mode": {
    "name": "ipython",
    "version": 3
   },
   "file_extension": ".py",
   "mimetype": "text/x-python",
   "name": "python",
   "nbconvert_exporter": "python",
   "pygments_lexer": "ipython3",
   "version": "3.12.9"
  }
 },
 "nbformat": 4,
 "nbformat_minor": 5
}
